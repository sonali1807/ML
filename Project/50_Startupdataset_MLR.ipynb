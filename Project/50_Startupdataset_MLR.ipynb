{
  "nbformat": 4,
  "nbformat_minor": 0,
  "metadata": {
    "colab": {
      "name": "50_Startupdataset_MLR.ipynb",
      "provenance": [],
      "collapsed_sections": []
    },
    "kernelspec": {
      "name": "python3",
      "display_name": "Python 3"
    },
    "language_info": {
      "name": "python"
    }
  },
  "cells": [
    {
      "cell_type": "code",
      "metadata": {
        "id": "lDcTwr0BVgt2"
      },
      "source": [
        "#Importing the libraries\n",
        "import numpy as np\n",
        "import pandas as pd\n",
        "import matplotlib.pyplot as plt\n",
        "import seaborn as sns"
      ],
      "execution_count": null,
      "outputs": []
    },
    {
      "cell_type": "code",
      "metadata": {
        "colab": {
          "base_uri": "https://localhost:8080/",
          "height": 203
        },
        "id": "lro86PKKVleD",
        "outputId": "15f270db-61ea-45c8-a09e-8b49f269ac78"
      },
      "source": [
        "#Importing the dataset\n",
        "data = pd.read_csv(\"/content/50_startups_data.csv\")\n",
        "data.head()"
      ],
      "execution_count": null,
      "outputs": [
        {
          "output_type": "execute_result",
          "data": {
            "text/html": [
              "<div>\n",
              "<style scoped>\n",
              "    .dataframe tbody tr th:only-of-type {\n",
              "        vertical-align: middle;\n",
              "    }\n",
              "\n",
              "    .dataframe tbody tr th {\n",
              "        vertical-align: top;\n",
              "    }\n",
              "\n",
              "    .dataframe thead th {\n",
              "        text-align: right;\n",
              "    }\n",
              "</style>\n",
              "<table border=\"1\" class=\"dataframe\">\n",
              "  <thead>\n",
              "    <tr style=\"text-align: right;\">\n",
              "      <th></th>\n",
              "      <th>R&amp;D Spend</th>\n",
              "      <th>Administration</th>\n",
              "      <th>Marketing Spend</th>\n",
              "      <th>Profit</th>\n",
              "    </tr>\n",
              "  </thead>\n",
              "  <tbody>\n",
              "    <tr>\n",
              "      <th>0</th>\n",
              "      <td>165349.20</td>\n",
              "      <td>136897.80</td>\n",
              "      <td>471784.10</td>\n",
              "      <td>192261.83</td>\n",
              "    </tr>\n",
              "    <tr>\n",
              "      <th>1</th>\n",
              "      <td>162597.70</td>\n",
              "      <td>151377.59</td>\n",
              "      <td>443898.53</td>\n",
              "      <td>191792.06</td>\n",
              "    </tr>\n",
              "    <tr>\n",
              "      <th>2</th>\n",
              "      <td>153441.51</td>\n",
              "      <td>101145.55</td>\n",
              "      <td>407934.54</td>\n",
              "      <td>191050.39</td>\n",
              "    </tr>\n",
              "    <tr>\n",
              "      <th>3</th>\n",
              "      <td>144372.41</td>\n",
              "      <td>118671.85</td>\n",
              "      <td>383199.62</td>\n",
              "      <td>182901.99</td>\n",
              "    </tr>\n",
              "    <tr>\n",
              "      <th>4</th>\n",
              "      <td>142107.34</td>\n",
              "      <td>91391.77</td>\n",
              "      <td>366168.42</td>\n",
              "      <td>166187.94</td>\n",
              "    </tr>\n",
              "  </tbody>\n",
              "</table>\n",
              "</div>"
            ],
            "text/plain": [
              "   R&D Spend  Administration  Marketing Spend     Profit\n",
              "0  165349.20       136897.80        471784.10  192261.83\n",
              "1  162597.70       151377.59        443898.53  191792.06\n",
              "2  153441.51       101145.55        407934.54  191050.39\n",
              "3  144372.41       118671.85        383199.62  182901.99\n",
              "4  142107.34        91391.77        366168.42  166187.94"
            ]
          },
          "metadata": {
            "tags": []
          },
          "execution_count": 9
        }
      ]
    },
    {
      "cell_type": "code",
      "metadata": {
        "id": "PTUELZ6hVlg-"
      },
      "source": [
        "#Initiating the variables\n",
        "X = data.drop(['Profit'], axis = 1)\n",
        "Y = data['Profit'].values.reshape(-1,1)"
      ],
      "execution_count": null,
      "outputs": []
    },
    {
      "cell_type": "code",
      "metadata": {
        "id": "qWguljEnXJR-"
      },
      "source": [
        "#Splitting data into training, testing datase\n",
        "from sklearn.model_selection import train_test_split\n",
        "X_train, X_test, Y_train, Y_test = train_test_split(X, Y, test_size=0.2, random_state=45)"
      ],
      "execution_count": null,
      "outputs": []
    },
    {
      "cell_type": "code",
      "metadata": {
        "colab": {
          "base_uri": "https://localhost:8080/"
        },
        "id": "gJBAnztpXJU3",
        "outputId": "3ed07110-5203-49de-df5d-49b1f69c8d64"
      },
      "source": [
        "#Fitting Linear regression to our training set\n",
        "from sklearn.linear_model import LinearRegression\n",
        "multiple_reg = LinearRegression()\n",
        "multiple_reg.fit(X_train, Y_train)"
      ],
      "execution_count": null,
      "outputs": [
        {
          "output_type": "execute_result",
          "data": {
            "text/plain": [
              "LinearRegression(copy_X=True, fit_intercept=True, n_jobs=None, normalize=False)"
            ]
          },
          "metadata": {
            "tags": []
          },
          "execution_count": 13
        }
      ]
    },
    {
      "cell_type": "code",
      "metadata": {
        "id": "BzhurDtEXJhg",
        "colab": {
          "base_uri": "https://localhost:8080/"
        },
        "outputId": "7147bd97-a589-4adc-eb71-97de3b8fbc21"
      },
      "source": [
        "#Testing\n",
        "Y_pred = multiple_reg.predict(X_test)\n",
        "Y_pred"
      ],
      "execution_count": 35,
      "outputs": [
        {
          "output_type": "execute_result",
          "data": {
            "text/plain": [
              "array([[ 46591.4758872 ],\n",
              "       [159877.39517991],\n",
              "       [181942.82135806],\n",
              "       [154668.71520182],\n",
              "       [163444.84787177],\n",
              "       [110396.28611962],\n",
              "       [127477.12570991],\n",
              "       [ 89724.16092738],\n",
              "       [192480.59612014],\n",
              "       [114912.5120704 ]])"
            ]
          },
          "metadata": {
            "tags": []
          },
          "execution_count": 35
        }
      ]
    },
    {
      "cell_type": "code",
      "metadata": {
        "colab": {
          "base_uri": "https://localhost:8080/"
        },
        "id": "0PrBPgUOXJrZ",
        "outputId": "c7997e19-e29b-4f92-fe5c-b337d0ca9584"
      },
      "source": [
        "#Calculating the coefficients\n",
        "multiple_reg.coef_\n"
      ],
      "execution_count": null,
      "outputs": [
        {
          "output_type": "execute_result",
          "data": {
            "text/plain": [
              "array([[ 0.7957237 , -0.02461232,  0.03042291]])"
            ]
          },
          "metadata": {
            "tags": []
          },
          "execution_count": 15
        }
      ]
    },
    {
      "cell_type": "code",
      "metadata": {
        "colab": {
          "base_uri": "https://localhost:8080/"
        },
        "id": "ze_M_OYvXJuW",
        "outputId": "0d388cf6-608b-4e4b-bd55-b27aed61a17a"
      },
      "source": [
        "#Calculating the intercept\n",
        "multiple_reg.intercept_"
      ],
      "execution_count": null,
      "outputs": [
        {
          "output_type": "execute_result",
          "data": {
            "text/plain": [
              "array([49924.64611218])"
            ]
          },
          "metadata": {
            "tags": []
          },
          "execution_count": 16
        }
      ]
    },
    {
      "cell_type": "code",
      "metadata": {
        "colab": {
          "base_uri": "https://localhost:8080/"
        },
        "id": "oQKGwPogY495",
        "outputId": "bb60af21-e623-4f6d-e892-08dfdb3e6f20"
      },
      "source": [
        "#Calculating the R squared value\n",
        "from sklearn.metrics import r2_score\n",
        "r2_score(Y_test, Y_pred)"
      ],
      "execution_count": 29,
      "outputs": [
        {
          "output_type": "execute_result",
          "data": {
            "text/plain": [
              "0.9836713364627709"
            ]
          },
          "metadata": {
            "tags": []
          },
          "execution_count": 29
        }
      ]
    },
    {
      "cell_type": "markdown",
      "metadata": {
        "id": "4jn9YeLVZNMg"
      },
      "source": [
        "\n",
        "Prediction for new values"
      ]
    },
    {
      "cell_type": "code",
      "metadata": {
        "id": "qMgoo9hTY5Ec",
        "colab": {
          "base_uri": "https://localhost:8080/"
        },
        "outputId": "eaa997ac-af7c-4bcf-cdb8-dce37960a96f"
      },
      "source": [
        "output = multiple_reg.predict([[165349.20, 136897.80, 471784.10]])\n",
        "output"
      ],
      "execution_count": 53,
      "outputs": [
        {
          "output_type": "execute_result",
          "data": {
            "text/plain": [
              "array([[192480.59612014]])"
            ]
          },
          "metadata": {
            "tags": []
          },
          "execution_count": 53
        }
      ]
    },
    {
      "cell_type": "code",
      "metadata": {
        "colab": {
          "base_uri": "https://localhost:8080/"
        },
        "id": "_5SFbH2xY5AK",
        "outputId": "0b7f1349-81ba-48eb-a2dd-89a1dfbdb7d1"
      },
      "source": [
        "#Taking the input from the user\n",
        "print(\"Enter the ammount you will spend on:\")\n",
        "RDSpend = float(input(\"RD : \"))\n",
        "Administration = float(input(\"Admistration : \"))\n",
        "MarketingSpend = float(input(\"Marketing : \"))\n",
        "\n",
        "#predicting the profit with respect to the inputs\n",
        "output = multiple_reg.predict([[RDSpend, Administration, MarketingSpend]])\n",
        "print(\"you will get {} profit by spending {} on RD , {} on adminisration and {} on marketing.\".format(output[0] if output else \"not predictable\", RDSpend, Administration, MarketingSpend))"
      ],
      "execution_count": 65,
      "outputs": [
        {
          "output_type": "stream",
          "text": [
            "Enter the ammount you will spend on:\n",
            "RD : 451285.20\n",
            "Admistration : 784512.30\n",
            "Marketing : 789456.30\n",
            "you will get [413731.86817543] profit by spending 451285.2 on RD , 784512.3 on adminisration and 789456.3 on marketing.\n"
          ],
          "name": "stdout"
        }
      ]
    }
  ]
}